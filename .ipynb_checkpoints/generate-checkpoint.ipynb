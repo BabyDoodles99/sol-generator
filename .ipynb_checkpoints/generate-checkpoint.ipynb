{
 "cells": [
  {
   "cell_type": "code",
   "execution_count": 1,
   "metadata": {},
   "outputs": [],
   "source": [
    "from PIL import Image \n",
    "from IPython.display import display \n",
    "import random\n",
    "import json\n",
    "import sys"
   ]
  },
  {
   "cell_type": "code",
   "execution_count": 2,
   "metadata": {},
   "outputs": [],
   "source": [
    "# Each image is made up a series of traits\n",
    "# The weightings for each trait drive the rarity and add up to 100%\n",
    "\n",
    "sys.setrecursionlimit(200000)#allows the computer to run longer during the recursive process\n",
    "\n",
    "background = [\"White-Paper\", \"Blue-Paper\", \"Pink-Paper\", \"Green-Paper\",\"Red-Paper\"] \n",
    "background_weights = [30,20,20,15,15]\n",
    "\n",
    "base = [\"Base\"]\n",
    "base_weights = [100]\n",
    "\n",
    "features = [\"Face-Tatted\", \"Freckled\", \"Earring\", \"Dirty\", \"Clean\"] \n",
    "features_weights = [10, 25, 15, 25, 25]\n",
    "\n",
    "eyes = [\"Buddha\", \"Cartoon\", \"Brow\", \"Wink\", \"Cute\", \"Aviator\", \"Clout\"] \n",
    "eyes_weights = [10,10,10,20,20,20,10]\n",
    "\n",
    "mouth = [\"Tongue-Out\",\"Puckered\", \"Frown\", \"Lipstick\"]\n",
    "mouth_weights = [25,25,30,20]\n",
    "\n",
    "hat = [\"Pinwheel\", \"Santa\",\"Baseball\",\"Crown\"] \n",
    "hat_weights = [20,20,30,30]\n",
    "\n",
    "# Dictionary variable for each trait. \n",
    "# Eech trait corresponds to its file name\n",
    "\n",
    "background_files = {\n",
    "    \"White-Paper\": \"0.0\",\n",
    "    \"Blue-Paper\": \"0.1\",\n",
    "    \"Pink-Paper\": \"0.2\",\n",
    "    \"Green-Paper\": \"0.3\",\n",
    "    \"Red-Paper\" : \"0.4\"\n",
    "}\n",
    "\n",
    "base_files = {\n",
    "    \"Base\" : \"1.0\"\n",
    "}\n",
    "\n",
    "features_files = {\n",
    "    \"Face-Tatted\": \"2.0\",\n",
    "    \"Freckled\": \"2.1\",\n",
    "    \"Earring\": \"2.2\",\n",
    "    \"Dirty\": \"2.3\",\n",
    "    \"Clean\": \"2.4\"\n",
    "}\n",
    "\n",
    "eyes_files = {\n",
    "    \"Buddha\": \"3.0\",\n",
    "    \"Cartoon\": \"3.1\",\n",
    "    \"Brow\": \"3.2\",\n",
    "    \"Wink\": \"3.3\", \n",
    "    \"Cute\": \"3.4\",\n",
    "    \"Aviator\": \"3.5\",\n",
    "    \"Clout\": \"3.6\"\n",
    "}\n",
    "\n",
    "mouth_files = {\n",
    "    \"Tongue-Out\" : \"4.0\",\n",
    "    \"Puckered\" : \"4.1\",\n",
    "    \"Frown\" : \"4.2\",\n",
    "    \"Lipstick\" : \"4.3\"\n",
    "}\n",
    "\n",
    "hat_files = {\n",
    "    \"Pinwheel\": \"5.0\",\n",
    "    \"Santa\": \"5.1\",\n",
    "    \"Baseball\": \"5.2\",\n",
    "    \"Crown\": \"5.3\"\n",
    "}"
   ]
  },
  {
   "cell_type": "code",
   "execution_count": 3,
   "metadata": {},
   "outputs": [],
   "source": [
    "## Generate Traits\n",
    "\n",
    "TOTAL_IMAGES = 3 # Number of random unique images we want to generate\n",
    "\n",
    "all_images = [] \n",
    "\n",
    "# A recursive function to generate unique image combinations\n",
    "def create_new_image():\n",
    "    \n",
    "    new_image = {} #\n",
    "\n",
    "    # For each trait category, select a random trait based on the weightings \n",
    "    new_image [\"Background\"] = random.choices(background, background_weights)[0]\n",
    "    new_image [\"Base\"] = random.choices(base, base_weights)[0]\n",
    "    new_image [\"Features\"] = random.choices(features, features_weights)[0]\n",
    "    new_image [\"Eyes\"] = random.choices(eyes, eyes_weights)[0]\n",
    "    new_image [\"Mouth\"] = random.choices(mouth, mouth_weights)[0]\n",
    "    new_image [\"Hat\"] = random.choices(hat, hat_weights)[0]\n",
    "    \n",
    "    if new_image in all_images:\n",
    "        return create_new_image()\n",
    "    else:\n",
    "        return new_image\n",
    "    \n",
    "    \n",
    "# Generate the unique combinations based on trait weightings\n",
    "for i in range(TOTAL_IMAGES): \n",
    "    \n",
    "    new_trait_image = create_new_image()\n",
    "    \n",
    "    all_images.append(new_trait_image)\n",
    "    \n",
    "\n"
   ]
  },
  {
   "cell_type": "code",
   "execution_count": 4,
   "metadata": {},
   "outputs": [
    {
     "name": "stdout",
     "output_type": "stream",
     "text": [
      "Are all images unique? True\n"
     ]
    }
   ],
   "source": [
    "# Returns true if all images are unique\n",
    "def all_images_unique(all_images):\n",
    "    seen = list()\n",
    "    return not any(i in seen or seen.append(i) for i in all_images)\n",
    "\n",
    "print(\"Are all images unique?\", all_images_unique(all_images))"
   ]
  },
  {
   "cell_type": "code",
   "execution_count": 5,
   "metadata": {},
   "outputs": [],
   "source": [
    "# Add token Id to each image\n",
    "i = 0\n",
    "for item in all_images:\n",
    "    item[\"tokenId\"] = i\n",
    "    i = i + 1"
   ]
  },
  {
   "cell_type": "code",
   "execution_count": 6,
   "metadata": {
    "tags": []
   },
   "outputs": [
    {
     "name": "stdout",
     "output_type": "stream",
     "text": [
      "[{'Background': 'Pink-Paper', 'Base': 'Base', 'Features': 'Clean', 'Eyes': 'Aviator', 'Mouth': 'Puckered', 'Hat': 'Pinwheel', 'tokenId': 0}, {'Background': 'White-Paper', 'Base': 'Base', 'Features': 'Dirty', 'Eyes': 'Cute', 'Mouth': 'Tongue-Out', 'Hat': 'Crown', 'tokenId': 1}, {'Background': 'Blue-Paper', 'Base': 'Base', 'Features': 'Dirty', 'Eyes': 'Cartoon', 'Mouth': 'Tongue-Out', 'Hat': 'Crown', 'tokenId': 2}]\n"
     ]
    }
   ],
   "source": [
    "print(all_images)"
   ]
  },
  {
   "cell_type": "code",
   "execution_count": 7,
   "metadata": {},
   "outputs": [
    {
     "name": "stdout",
     "output_type": "stream",
     "text": [
      "{'White-Paper': 1, 'Blue-Paper': 1, 'Pink-Paper': 1, 'Green-Paper': 0, 'Red-Paper': 0}\n",
      "{'Base': 3}\n",
      "{'Face-Tatted': 0, 'Freckled': 0, 'Earring': 0, 'Dirty': 2, 'Clean': 1}\n",
      "{'Buddha': 0, 'Cartoon': 1, 'Brow': 0, 'Wink': 0, 'Cute': 1, 'Aviator': 1, 'Clout': 0}\n",
      "{'Tongue-Out': 2, 'Puckered': 1, 'Frown': 0, 'Lipstick': 0}\n",
      "{'Pinwheel': 1, 'Santa': 0, 'Baseball': 0, 'Crown': 2}\n"
     ]
    }
   ],
   "source": [
    "# Get Trait Counts\n",
    "\n",
    "background_count = {}\n",
    "for item in background:\n",
    "    background_count[item] = 0\n",
    "    \n",
    "base_count = {}\n",
    "for item in base:\n",
    "    base_count[item] = 0\n",
    "\n",
    "features_count = {}\n",
    "for item in features:\n",
    "    features_count[item] = 0\n",
    "    \n",
    "eyes_count = {}\n",
    "for item in eyes:\n",
    "    eyes_count[item] = 0\n",
    "    \n",
    "mouth_count = {}\n",
    "for item in mouth:\n",
    "    mouth_count[item] = 0\n",
    "\n",
    "hat_count = {}\n",
    "for item in hat:\n",
    "    hat_count[item] = 0\n",
    "\n",
    "for image in all_images:\n",
    "    background_count[image[\"Background\"]] += 1\n",
    "    base_count[image[\"Base\"]] += 1\n",
    "    features_count[image[\"Features\"]] += 1\n",
    "    eyes_count[image[\"Eyes\"]] += 1\n",
    "    mouth_count[image[\"Mouth\"]] += 1\n",
    "    hat_count[image[\"Hat\"]] += 1\n",
    "    \n",
    "print(background_count)\n",
    "print(base_count)\n",
    "print(features_count)\n",
    "print(eyes_count)\n",
    "print(mouth_count)\n",
    "print(hat_count)"
   ]
  },
  {
   "cell_type": "code",
   "execution_count": 8,
   "metadata": {},
   "outputs": [],
   "source": [
    "#### Generate Metadata for all Traits \n",
    "METADATA_FILE_NAME = './metadata/all-traits.json'; \n",
    "with open(METADATA_FILE_NAME, 'w') as outfile:\n",
    "    json.dump(all_images, outfile, indent=4)"
   ]
  },
  {
   "cell_type": "code",
   "execution_count": 9,
   "metadata": {},
   "outputs": [],
   "source": [
    "  \n",
    "    \n",
    "#### Generate Images    \n",
    "for item in all_images:\n",
    "\n",
    "    im1 = Image.open(f'./trait-layers/backgrounds/{background_files[item[\"Background\"]]}.png').convert('RGBA')\n",
    "    im2 = Image.open(f'./trait-layers/base/{base_files[item[\"Base\"]]}.png').convert('RGBA')\n",
    "    im3 = Image.open(f'./trait-layers/features/{features_files[item[\"Features\"]]}.png').convert('RGBA')\n",
    "    im4 = Image.open(f'./trait-layers/eyes/{eyes_files[item[\"Eyes\"]]}.png').convert('RGBA')\n",
    "    im5 = Image.open(f'./trait-layers/mouth/{mouth_files[item[\"Mouth\"]]}.png').convert('RGBA')\n",
    "    im6 = Image.open(f'./trait-layers/hat/{hat_files[item[\"Hat\"]]}.png').convert('RGBA')\n",
    "\n",
    "    #Create each composite\n",
    "    com1 = Image.alpha_composite(im1, im2)\n",
    "    com2 = Image.alpha_composite(com1, im3)\n",
    "    com3 = Image.alpha_composite(com2, im4)\n",
    "    com4 = Image.alpha_composite(com3, im5)\n",
    "    com5 = Image.alpha_composite(com4, im6)\n",
    "\n",
    "    #Convert to RGB\n",
    "    rgb_im = com5.convert('RGB')\n",
    "    file_name = str(item[\"tokenId\"]) + \".png\"\n",
    "    rgb_im.save(\"./images/\" + file_name)\n",
    "    \n",
    "    \n",
    "    "
   ]
  },
  {
   "cell_type": "code",
   "execution_count": 10,
   "metadata": {},
   "outputs": [
    {
     "ename": "SyntaxError",
     "evalue": "invalid syntax (4239374976.py, line 22)",
     "output_type": "error",
     "traceback": [
      "\u001b[0;36m  File \u001b[0;32m\"/var/folders/q9/rdc6kcn95_95zg6b5yh6gqv40000gn/T/ipykernel_15480/4239374976.py\"\u001b[0;36m, line \u001b[0;32m22\u001b[0m\n\u001b[0;31m    \"files\" : [\"uri\":\"image.png\", \"type\": \"image/png\"],\u001b[0m\n\u001b[0m                    ^\u001b[0m\n\u001b[0;31mSyntaxError\u001b[0m\u001b[0;31m:\u001b[0m invalid syntax\n"
     ]
    }
   ],
   "source": [
    "#### Generate Metadata for each Image    \n",
    "\n",
    "f = open('./metadata/all-traits.json',) \n",
    "data = json.load(f)\n",
    "\n",
    "PROJECT_NAME = \"Baby Doodles\"\n",
    "\n",
    "def getAttribute(key, value):\n",
    "    return {\n",
    "        \"trait_type\": key,\n",
    "        \"value\": value\n",
    "    }\n",
    "\n",
    "def getCollection():\n",
    "    return {\n",
    "        \"name\": 'Baby Avatars',\n",
    "        \"family\": 'Baby Doodles'\n",
    "    }\n",
    "\n",
    "def getProperties():\n",
    "    return{\n",
    "        \"files\" : [\"uri\":\"image.png\"\"type\": \"image/png\"],\n",
    "        \"category\" : \"image\",\n",
    "        \"creators\" : [\"address\" : \"HAhri3YyDyg5ZmzYmr7niMAohL5CbnbspwbvfcFHAVZA\" \"share\": 100]\n",
    "    }\n",
    "    \n",
    "\n",
    "\n",
    "for i in data:\n",
    "    token_id = i['tokenId']\n",
    "    token = {\n",
    "        \"name\": PROJECT_NAME + ' #' + str(token_id),\n",
    "        \"symbol\": \"BABY\"\n",
    "        \"description\": \"Here come the newbies working togther to slide into the market!\"\n",
    "        \"seller_fee_basis_points\": 690,\n",
    "        \"image\": 'image.png',\n",
    "        \"tokenId\": token_id,\n",
    "        \"attributes\": [],\n",
    "        \"collection\":,\n",
    "        \"properties\":\n",
    "    }\n",
    "    token[\"attributes\"].append(getAttribute(\"Background\", i[\"Background\"]))\n",
    "    token[\"attributes\"].append(getAttribute(\"Body\", i[\"Body\"]))\n",
    "    token[\"attributes\"].append(getAttribute(\"Features\", i[\"Features\"]))\n",
    "    token[\"attributes\"].append(getAttribute(\"Eyes\", i[\"Eyes\"]))\n",
    "    token[\"attributes\"].append(getAttribute(\"Mouth\", i[\"Mouth\"]))\n",
    "    token[\"attributes\"].append(getAttribute(\"Hat\", i[\"Hat\"]))\n",
    "    token[\"collection\"].append(getCollection())\n",
    "    token[\"properties\"].append(getProperties())\n",
    "    \n",
    "\n",
    "    with open('./metadata/' + str(token_id) + '.json', 'w') as outfile:\n",
    "        json.dump(token, outfile, indent=4)\n",
    "f.close()"
   ]
  },
  {
   "cell_type": "code",
   "execution_count": null,
   "metadata": {},
   "outputs": [],
   "source": []
  }
 ],
 "metadata": {
  "interpreter": {
   "hash": "3d65f8beab89bca824669a8319117cabe601d9aca9a71aad8efeb42336828120"
  },
  "kernelspec": {
   "display_name": "Python 3 (ipykernel)",
   "language": "python",
   "name": "python3"
  },
  "language_info": {
   "codemirror_mode": {
    "name": "ipython",
    "version": 3
   },
   "file_extension": ".py",
   "mimetype": "text/x-python",
   "name": "python",
   "nbconvert_exporter": "python",
   "pygments_lexer": "ipython3",
   "version": "3.9.7"
  }
 },
 "nbformat": 4,
 "nbformat_minor": 4
}
